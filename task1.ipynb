{
  "nbformat": 4,
  "nbformat_minor": 0,
  "metadata": {
    "colab": {
      "name": "task1.ipynb",
      "provenance": [],
      "collapsed_sections": []
    },
    "kernelspec": {
      "name": "ir",
      "display_name": "R"
    },
    "language_info": {
      "name": "R"
    }
  },
  "cells": [
    {
      "cell_type": "markdown",
      "metadata": {
        "id": "lwNBi8YGrp3E"
      },
      "source": [
        "First, lets read the data into Colab space. The following syntax helps us to read the csv file."
      ]
    },
    {
      "cell_type": "code",
      "metadata": {
        "id": "m3Nt1yoYm8Oj"
      },
      "source": [
        "df <- read.csv(\"http://bit.ly/w-data\", header = TRUE)"
      ],
      "execution_count": 1,
      "outputs": []
    },
    {
      "cell_type": "markdown",
      "metadata": {
        "id": "bj43U3Z8r-9U"
      },
      "source": [
        "Checking the contents of the csv file and the dimensions of the dataframe."
      ]
    },
    {
      "cell_type": "code",
      "metadata": {
        "colab": {
          "base_uri": "https://localhost:8080/",
          "height": 300
        },
        "id": "vUOFOi2KnI-6",
        "outputId": "5ec75e7c-0816-414f-808c-6d44630d2583"
      },
      "source": [
        "dim(df)\n",
        "head(df)"
      ],
      "execution_count": 2,
      "outputs": [
        {
          "output_type": "display_data",
          "data": {
            "text/plain": [
              "[1] 25  2"
            ],
            "text/latex": "\\begin{enumerate*}\n\\item 25\n\\item 2\n\\end{enumerate*}\n",
            "text/markdown": "1. 25\n2. 2\n\n\n",
            "text/html": [
              "<style>\n",
              ".list-inline {list-style: none; margin:0; padding: 0}\n",
              ".list-inline>li {display: inline-block}\n",
              ".list-inline>li:not(:last-child)::after {content: \"\\00b7\"; padding: 0 .5ex}\n",
              "</style>\n",
              "<ol class=list-inline><li>25</li><li>2</li></ol>\n"
            ]
          },
          "metadata": {
            "tags": []
          }
        },
        {
          "output_type": "display_data",
          "data": {
            "text/plain": [
              "  Hours Scores\n",
              "1 2.5   21    \n",
              "2 5.1   47    \n",
              "3 3.2   27    \n",
              "4 8.5   75    \n",
              "5 3.5   30    \n",
              "6 1.5   20    "
            ],
            "text/latex": "A data.frame: 6 × 2\n\\begin{tabular}{r|ll}\n  & Hours & Scores\\\\\n  & <dbl> & <int>\\\\\n\\hline\n\t1 & 2.5 & 21\\\\\n\t2 & 5.1 & 47\\\\\n\t3 & 3.2 & 27\\\\\n\t4 & 8.5 & 75\\\\\n\t5 & 3.5 & 30\\\\\n\t6 & 1.5 & 20\\\\\n\\end{tabular}\n",
            "text/markdown": "\nA data.frame: 6 × 2\n\n| <!--/--> | Hours &lt;dbl&gt; | Scores &lt;int&gt; |\n|---|---|---|\n| 1 | 2.5 | 21 |\n| 2 | 5.1 | 47 |\n| 3 | 3.2 | 27 |\n| 4 | 8.5 | 75 |\n| 5 | 3.5 | 30 |\n| 6 | 1.5 | 20 |\n\n",
            "text/html": [
              "<table class=\"dataframe\">\n",
              "<caption>A data.frame: 6 × 2</caption>\n",
              "<thead>\n",
              "\t<tr><th></th><th scope=col>Hours</th><th scope=col>Scores</th></tr>\n",
              "\t<tr><th></th><th scope=col>&lt;dbl&gt;</th><th scope=col>&lt;int&gt;</th></tr>\n",
              "</thead>\n",
              "<tbody>\n",
              "\t<tr><th scope=row>1</th><td>2.5</td><td>21</td></tr>\n",
              "\t<tr><th scope=row>2</th><td>5.1</td><td>47</td></tr>\n",
              "\t<tr><th scope=row>3</th><td>3.2</td><td>27</td></tr>\n",
              "\t<tr><th scope=row>4</th><td>8.5</td><td>75</td></tr>\n",
              "\t<tr><th scope=row>5</th><td>3.5</td><td>30</td></tr>\n",
              "\t<tr><th scope=row>6</th><td>1.5</td><td>20</td></tr>\n",
              "</tbody>\n",
              "</table>\n"
            ]
          },
          "metadata": {
            "tags": []
          }
        }
      ]
    },
    {
      "cell_type": "markdown",
      "metadata": {
        "id": "YC2WqaaUsRHP"
      },
      "source": [
        "Plotting the data:"
      ]
    },
    {
      "cell_type": "code",
      "metadata": {
        "colab": {
          "base_uri": "https://localhost:8080/",
          "height": 437
        },
        "id": "5oNSs3xjpkpe",
        "outputId": "77d53b37-f8c5-471c-c2ca-06a291816ab1"
      },
      "source": [
        "plot(df$Hours, df$Scores, main = \"Hours vs Scores\", xlab = \"Hours\", ylab = \"Scores(%)\", pch = 19, frame = TRUE)"
      ],
      "execution_count": null,
      "outputs": [
        {
          "output_type": "display_data",
          "data": {
            "image/png": "[encoded data removed]",
            "text/plain": [
              "Plot with title “Hours vs Scores”"
            ]
          },
          "metadata": {
            "tags": [],
            "image/png": {
              "width": 420,
              "height": 420
            }
          }
        }
      ]
    },
    {
      "cell_type": "markdown",
      "metadata": {
        "id": "bRx5SUr_sdg_"
      },
      "source": [
        "Preparing the data for training and testing."
      ]
    },
    {
      "cell_type": "code",
      "metadata": {
        "id": "OCIvS8-QwJJY"
      },
      "source": [
        "set.seed(100)  # setting seed to reproduce results of random sampling\n",
        "trainingIndex <- sample(1:nrow(df), 0.7*nrow(df))  # row indices for training data\n",
        "train <- df[trainingIndex, ]  # model training data\n",
        "test  <- df[-trainingIndex, ]   # test data"
      ],
      "execution_count": null,
      "outputs": []
    },
    {
      "cell_type": "markdown",
      "metadata": {
        "id": "_TdzL2Srskfl"
      },
      "source": [
        "Training the model with the Train dataset."
      ]
    },
    {
      "cell_type": "code",
      "metadata": {
        "id": "sCgjCDlMwPKz"
      },
      "source": [
        "df_train <- lm(Scores ~ Hours, data=train)"
      ],
      "execution_count": null,
      "outputs": []
    },
    {
      "cell_type": "markdown",
      "metadata": {
        "id": "0-UHOBHjv5Bo"
      },
      "source": [
        "Lets plot the data along with linear regression."
      ]
    },
    {
      "cell_type": "code",
      "metadata": {
        "colab": {
          "base_uri": "https://localhost:8080/",
          "height": 437
        },
        "id": "469bzRvjvhb-",
        "outputId": "257dd80a-dd33-46ed-bf12-215ddb23b8bf"
      },
      "source": [
        "plot(df$Hours, df$Scores, main = \"Hours vs Scores\",abline(df_train), xlab = \"Hours\", ylab = \"Scores(%)\", pch = 19, frame = TRUE)"
      ],
      "execution_count": null,
      "outputs": [
        {
          "output_type": "display_data",
          "data": {
            "image/png": "[encoded data removed]",
            "text/plain": [
              "Plot with title “Hours vs Scores”"
            ]
          },
          "metadata": {
            "tags": [],
            "image/png": {
              "width": 420,
              "height": 420
            }
          }
        }
      ]
    },
    {
      "cell_type": "markdown",
      "metadata": {
        "id": "NRy-TzjPsq3i"
      },
      "source": [
        "Testing the model with Test dataset."
      ]
    },
    {
      "cell_type": "code",
      "metadata": {
        "id": "U_VAHO1dy7T7"
      },
      "source": [
        "test$Pred <- predict(df_train, test)"
      ],
      "execution_count": null,
      "outputs": []
    },
    {
      "cell_type": "markdown",
      "metadata": {
        "id": "Zr9pvxjSs1h2"
      },
      "source": [
        "Checking the predictions of Test dataset."
      ]
    },
    {
      "cell_type": "code",
      "metadata": {
        "colab": {
          "base_uri": "https://localhost:8080/",
          "height": 345
        },
        "id": "Cm4bCyxxzA__",
        "outputId": "923ff063-da57-4092-f37f-d56eafd1a10d"
      },
      "source": [
        "test"
      ],
      "execution_count": null,
      "outputs": [
        {
          "output_type": "display_data",
          "data": {
            "text/plain": [
              "   Hours Scores Pred    \n",
              "1  2.5   21     28.30797\n",
              "3  3.2   27     34.80440\n",
              "5  3.5   30     37.58859\n",
              "9  8.3   81     82.13555\n",
              "11 7.7   85     76.56718\n",
              "15 1.1   17     15.31510\n",
              "17 2.5   30     28.30797\n",
              "25 7.8   86     77.49524"
            ],
            "text/latex": "A data.frame: 8 × 3\n\\begin{tabular}{r|lll}\n  & Hours & Scores & Pred\\\\\n  & <dbl> & <int> & <dbl>\\\\\n\\hline\n\t1 & 2.5 & 21 & 28.30797\\\\\n\t3 & 3.2 & 27 & 34.80440\\\\\n\t5 & 3.5 & 30 & 37.58859\\\\\n\t9 & 8.3 & 81 & 82.13555\\\\\n\t11 & 7.7 & 85 & 76.56718\\\\\n\t15 & 1.1 & 17 & 15.31510\\\\\n\t17 & 2.5 & 30 & 28.30797\\\\\n\t25 & 7.8 & 86 & 77.49524\\\\\n\\end{tabular}\n",
            "text/markdown": "\nA data.frame: 8 × 3\n\n| <!--/--> | Hours &lt;dbl&gt; | Scores &lt;int&gt; | Pred &lt;dbl&gt; |\n|---|---|---|---|\n| 1 | 2.5 | 21 | 28.30797 |\n| 3 | 3.2 | 27 | 34.80440 |\n| 5 | 3.5 | 30 | 37.58859 |\n| 9 | 8.3 | 81 | 82.13555 |\n| 11 | 7.7 | 85 | 76.56718 |\n| 15 | 1.1 | 17 | 15.31510 |\n| 17 | 2.5 | 30 | 28.30797 |\n| 25 | 7.8 | 86 | 77.49524 |\n\n",
            "text/html": [
              "<table class=\"dataframe\">\n",
              "<caption>A data.frame: 8 × 3</caption>\n",
              "<thead>\n",
              "\t<tr><th></th><th scope=col>Hours</th><th scope=col>Scores</th><th scope=col>Pred</th></tr>\n",
              "\t<tr><th></th><th scope=col>&lt;dbl&gt;</th><th scope=col>&lt;int&gt;</th><th scope=col>&lt;dbl&gt;</th></tr>\n",
              "</thead>\n",
              "<tbody>\n",
              "\t<tr><th scope=row>1</th><td>2.5</td><td>21</td><td>28.30797</td></tr>\n",
              "\t<tr><th scope=row>3</th><td>3.2</td><td>27</td><td>34.80440</td></tr>\n",
              "\t<tr><th scope=row>5</th><td>3.5</td><td>30</td><td>37.58859</td></tr>\n",
              "\t<tr><th scope=row>9</th><td>8.3</td><td>81</td><td>82.13555</td></tr>\n",
              "\t<tr><th scope=row>11</th><td>7.7</td><td>85</td><td>76.56718</td></tr>\n",
              "\t<tr><th scope=row>15</th><td>1.1</td><td>17</td><td>15.31510</td></tr>\n",
              "\t<tr><th scope=row>17</th><td>2.5</td><td>30</td><td>28.30797</td></tr>\n",
              "\t<tr><th scope=row>25</th><td>7.8</td><td>86</td><td>77.49524</td></tr>\n",
              "</tbody>\n",
              "</table>\n"
            ]
          },
          "metadata": {
            "tags": []
          }
        }
      ]
    },
    {
      "cell_type": "markdown",
      "metadata": {
        "id": "xk30sf5_s6r4"
      },
      "source": [
        "Predicting for a particular case."
      ]
    },
    {
      "cell_type": "code",
      "metadata": {
        "colab": {
          "base_uri": "https://localhost:8080/",
          "height": 34
        },
        "id": "ZuElE0B00VPO",
        "outputId": "1376d10e-c167-46ca-f4fb-e6088e822494"
      },
      "source": [
        "pred_score <- data.frame(Hours = c(9.25))\n",
        "pred <- predict(df_train,pred_score)\n",
        "pred"
      ],
      "execution_count": null,
      "outputs": [
        {
          "output_type": "display_data",
          "data": {
            "text/plain": [
              "       1 \n",
              "90.95214 "
            ],
            "text/latex": "\\textbf{1:} 90.9521403091558",
            "text/markdown": "**1:** 90.9521403091558",
            "text/html": [
              "<strong>1:</strong> 90.9521403091558"
            ]
          },
          "metadata": {
            "tags": []
          }
        }
      ]
    },
    {
      "cell_type": "markdown",
      "metadata": {
        "id": "4G_zxADBs_0_"
      },
      "source": [
        "Summary of the model."
      ]
    },
    {
      "cell_type": "code",
      "metadata": {
        "colab": {
          "base_uri": "https://localhost:8080/",
          "height": 323
        },
        "id": "ehVi9PuMJvH3",
        "outputId": "89f5b7ce-e391-4117-f6ae-24949b850603"
      },
      "source": [
        "summary(df_train)"
      ],
      "execution_count": null,
      "outputs": [
        {
          "output_type": "display_data",
          "data": {
            "text/plain": [
              "\n",
              "Call:\n",
              "lm(formula = Scores ~ Hours, data = train)\n",
              "\n",
              "Residuals:\n",
              "    Min      1Q  Median      3Q     Max \n",
              "-8.9917 -5.1641  0.9727  4.3466  7.2961 \n",
              "\n",
              "Coefficients:\n",
              "            Estimate Std. Error t value Pr(>|t|)    \n",
              "(Intercept)   5.1064     3.2030   1.594    0.132    \n",
              "Hours         9.2806     0.5602  16.568 4.73e-11 ***\n",
              "---\n",
              "Signif. codes:  0 ‘***’ 0.001 ‘**’ 0.01 ‘*’ 0.05 ‘.’ 0.1 ‘ ’ 1\n",
              "\n",
              "Residual standard error: 5.402 on 15 degrees of freedom\n",
              "Multiple R-squared:  0.9482,\tAdjusted R-squared:  0.9447 \n",
              "F-statistic: 274.5 on 1 and 15 DF,  p-value: 4.735e-11\n"
            ]
          },
          "metadata": {
            "tags": []
          }
        }
      ]
    }
  ]
}